{
 "cells": [
  {
   "cell_type": "code",
   "execution_count": 2,
   "id": "8744a602-208b-4ff1-a1c1-e1e41edfab10",
   "metadata": {
    "tags": []
   },
   "outputs": [],
   "source": [
    "import torch\n",
    "import eigenpro.kernels as kernels\n",
    "import eigenpro.models.sharded_kernel_machine as skm\n",
    "import eigenpro.solver as solver\n",
    "import eigenpro.utils.device as dev"
   ]
  },
  {
   "cell_type": "code",
   "execution_count": 3,
   "id": "a01fd254-0de5-4a90-b233-1ed3c9f41420",
   "metadata": {
    "tags": []
   },
   "outputs": [
    {
     "name": "stdout",
     "output_type": "stream",
     "text": [
      "\u001b[31mnotice: the current implementation can only support 1 GPU, we only use the following device: (cuda:0) \u001b[0m\n",
      "╒══════════════════════════════════╤═════════╕\n",
      "│ Configuration                    │   Value │\n",
      "╞══════════════════════════════════╪═════════╡\n",
      "│ \u001b[32msize of model\u001b[0m                    │ 100     │\n",
      "├──────────────────────────────────┼─────────┤\n",
      "│ \u001b[32mambient dimension\u001b[0m                │ 5       │\n",
      "├──────────────────────────────────┼─────────┤\n",
      "│ \u001b[32moutput dimension\u001b[0m                 │ 2       │\n",
      "├──────────────────────────────────┼─────────┤\n",
      "│ \u001b[32msize of data preconditioner\u001b[0m      │ 10      │\n",
      "├──────────────────────────────────┼─────────┤\n",
      "│ \u001b[32mlevel of data preconditioner\u001b[0m     │ 3       │\n",
      "├──────────────────────────────────┼─────────┤\n",
      "│ \u001b[32msize of model preconditioner\u001b[0m     │ 10      │\n",
      "├──────────────────────────────────┼─────────┤\n",
      "│ \u001b[32mlevel of model preconditioner\u001b[0m    │ 3       │\n",
      "├──────────────────────────────────┼─────────┤\n",
      "│ \u001b[32msize of training dataset\u001b[0m         │ 250     │\n",
      "├──────────────────────────────────┼─────────┤\n",
      "│ \u001b[32mcritical batch size (SGD)\u001b[0m        │ 73      │\n",
      "├──────────────────────────────────┼─────────┤\n",
      "│ \u001b[32mbatch size (SGD)\u001b[0m                 │ 73      │\n",
      "├──────────────────────────────────┼─────────┤\n",
      "│ \u001b[32mcritical batch size (projection)\u001b[0m │ 47      │\n",
      "├──────────────────────────────────┼─────────┤\n",
      "│ \u001b[32mbatch size (projection)\u001b[0m          │ 47      │\n",
      "├──────────────────────────────────┼─────────┤\n",
      "│ \u001b[32mscaled learning rate\u001b[0m             │ 1.01    │\n",
      "├──────────────────────────────────┼─────────┤\n",
      "│ \u001b[32mprojection interval (in batches)\u001b[0m │ 1       │\n",
      "╘══════════════════════════════════╧═════════╛\n"
     ]
    },
    {
     "name": "stderr",
     "output_type": "stream",
     "text": [
      "Epoch 1/2:   0%|                                                                                                                    | 0/4 [00:00<?, ?it/s]\n",
      "Projection:   0%|                                                                                                                   | 0/3 [00:00<?, ?it/s]\u001b[A\n",
      "                                                                                                                                                          \u001b[A\n",
      "Projection:   0%|                                                                                                                   | 0/3 [00:00<?, ?it/s]\u001b[A\n",
      "                                                                                                                                                          \u001b[A\n",
      "Projection:   0%|                                                                                                                   | 0/3 [00:00<?, ?it/s]\u001b[A\n",
      "                                                                                                                                                          \u001b[A\n",
      "Projection:   0%|                                                                                                                   | 0/3 [00:00<?, ?it/s]\u001b[A\n",
      "Epoch 1/2: 100%|████████████████████████████████████████████████████████████████████████████████████████████████████████████| 4/4 [00:00<00:00, 52.63it/s]\u001b[A\n"
     ]
    },
    {
     "name": "stdout",
     "output_type": "stream",
     "text": [
      "╒═══════════════════╤══════════════╕\n",
      "│ Epoch 1 Summary   │ Value        │\n",
      "╞═══════════════════╪══════════════╡\n",
      "│ Test Loss         │ 0.3331757486 │\n",
      "├───────────────────┼──────────────┤\n",
      "│ Test Accuracy     │ 95.20%       │\n",
      "╘═══════════════════╧══════════════╛\n"
     ]
    },
    {
     "name": "stderr",
     "output_type": "stream",
     "text": [
      "Epoch 2/2:   0%|                                                                                                                    | 0/4 [00:00<?, ?it/s]\n",
      "Projection:   0%|                                                                                                                   | 0/3 [00:00<?, ?it/s]\u001b[A\n",
      "                                                                                                                                                          \u001b[A\n",
      "Projection:   0%|                                                                                                                   | 0/3 [00:00<?, ?it/s]\u001b[A\n",
      "                                                                                                                                                          \u001b[A\n",
      "Projection:   0%|                                                                                                                   | 0/3 [00:00<?, ?it/s]\u001b[A\n",
      "                                                                                                                                                          \u001b[A\n",
      "Projection:   0%|                                                                                                                   | 0/3 [00:00<?, ?it/s]\u001b[A\n",
      "Epoch 2/2: 100%|████████████████████████████████████████████████████████████████████████████████████████████████████████████| 4/4 [00:00<00:00, 52.63it/s]\u001b[A\n"
     ]
    },
    {
     "name": "stdout",
     "output_type": "stream",
     "text": [
      "╒═══════════════════╤══════════════╕\n",
      "│ Epoch 2 Summary   │ Value        │\n",
      "╞═══════════════════╪══════════════╡\n",
      "│ Test Loss         │ 0.2300972044 │\n",
      "├───────────────────┼──────────────┤\n",
      "│ Test Accuracy     │ 98.80%       │\n",
      "╘═══════════════════╧══════════════╛\n"
     ]
    }
   ],
   "source": [
    "n, p, d, c = 500, 100, 5, 2\n",
    "\n",
    "Z = torch.randn(p, d)\n",
    "X_train, X_test = torch.randn(n//2, d), torch.randn(n//2, d)\n",
    "W_star = torch.randn(d, c)\n",
    "Y_train, Y_test = X_train @ W_star, X_test @ W_star\n",
    "\n",
    "dtype = torch.float32\n",
    "kernel_fn = lambda x, z: kernels.laplacian(x, z, bandwidth=20.)\n",
    "device = dev.Device.create(use_gpu_if_available=True)\n",
    "model = skm.create_sharded_kernel_machine(\n",
    "    Z, c, kernel_fn, device, dtype=dtype, tmp_centers_coeff=2)\n",
    "\n",
    "sd, sm, qd, qm = 10, 10, 3, 3 # configuration for EigenPro preconditioners\n",
    "model = solver.fit(model, X_train, Y_train, X_test, Y_test, device,\n",
    "                   dtype=dtype, kernel=kernel_fn, s_data=sd, s_model=sm,\n",
    "                   q_data=qd, q_model=qm, epochs=2, accumulated_gradients=True)"
   ]
  }
 ],
 "metadata": {
  "kernelspec": {
   "display_name": "Python 3 (ipykernel)",
   "language": "python",
   "name": "python3"
  },
  "language_info": {
   "codemirror_mode": {
    "name": "ipython",
    "version": 3
   },
   "file_extension": ".py",
   "mimetype": "text/x-python",
   "name": "python",
   "nbconvert_exporter": "python",
   "pygments_lexer": "ipython3",
   "version": "3.11.5"
  }
 },
 "nbformat": 4,
 "nbformat_minor": 5
}
