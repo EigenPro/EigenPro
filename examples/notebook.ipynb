{
 "cells": [
  {
   "cell_type": "code",
   "execution_count": 1,
   "id": "8744a602-208b-4ff1-a1c1-e1e41edfab10",
   "metadata": {
    "tags": []
   },
   "outputs": [],
   "source": [
    "import torch\n",
    "import eigenpro.kernels as kernels\n",
    "import eigenpro.models.sharded_kernel_machine as skm\n",
    "import eigenpro.solver as solver\n",
    "import eigenpro.utils.device as dev"
   ]
  },
  {
   "cell_type": "code",
   "execution_count": 2,
   "id": "a01fd254-0de5-4a90-b233-1ed3c9f41420",
   "metadata": {
    "tags": []
   },
   "outputs": [
    {
     "name": "stdout",
     "output_type": "stream",
     "text": [
      "\u001b[31mnotice: the current implementation can only support 1 GPU, we only use the following device: (cuda:0) \u001b[0m\n"
     ]
    },
    {
     "ename": "TypeError",
     "evalue": "fit() got an unexpected keyword argument 's_data'",
     "output_type": "error",
     "traceback": [
      "\u001b[0;31m---------------------------------------------------------------------------\u001b[0m",
      "\u001b[0;31mTypeError\u001b[0m                                 Traceback (most recent call last)",
      "Cell \u001b[0;32mIn[2], line 15\u001b[0m\n\u001b[1;32m     11\u001b[0m model \u001b[38;5;241m=\u001b[39m skm\u001b[38;5;241m.\u001b[39mcreate_sharded_kernel_machine(\n\u001b[1;32m     12\u001b[0m     Z, c, kernel_fn, device, dtype\u001b[38;5;241m=\u001b[39mdtype, tmp_centers_coeff\u001b[38;5;241m=\u001b[39m\u001b[38;5;241m2\u001b[39m)\n\u001b[1;32m     14\u001b[0m sd, sm, qd, qm \u001b[38;5;241m=\u001b[39m \u001b[38;5;241m10\u001b[39m, \u001b[38;5;241m10\u001b[39m, \u001b[38;5;241m3\u001b[39m, \u001b[38;5;241m3\u001b[39m \u001b[38;5;66;03m# configuration for EigenPro preconditioners\u001b[39;00m\n\u001b[0;32m---> 15\u001b[0m model \u001b[38;5;241m=\u001b[39m \u001b[43msolver\u001b[49m\u001b[38;5;241;43m.\u001b[39;49m\u001b[43mfit\u001b[49m\u001b[43m(\u001b[49m\u001b[43mmodel\u001b[49m\u001b[43m,\u001b[49m\u001b[43m \u001b[49m\u001b[43mX_train\u001b[49m\u001b[43m,\u001b[49m\u001b[43m \u001b[49m\u001b[43mY_train\u001b[49m\u001b[43m,\u001b[49m\u001b[43m \u001b[49m\u001b[43mX_test\u001b[49m\u001b[43m,\u001b[49m\u001b[43m \u001b[49m\u001b[43mY_test\u001b[49m\u001b[43m,\u001b[49m\u001b[43m \u001b[49m\u001b[43mdevice\u001b[49m\u001b[43m,\u001b[49m\n\u001b[1;32m     16\u001b[0m \u001b[43m                   \u001b[49m\u001b[43mdtype\u001b[49m\u001b[38;5;241;43m=\u001b[39;49m\u001b[43mdtype\u001b[49m\u001b[43m,\u001b[49m\u001b[43m \u001b[49m\u001b[43mkernel\u001b[49m\u001b[38;5;241;43m=\u001b[39;49m\u001b[43mkernel_fn\u001b[49m\u001b[43m,\u001b[49m\u001b[43m \u001b[49m\u001b[43ms_data\u001b[49m\u001b[38;5;241;43m=\u001b[39;49m\u001b[43msd\u001b[49m\u001b[43m,\u001b[49m\u001b[43m \u001b[49m\u001b[43ms_model\u001b[49m\u001b[38;5;241;43m=\u001b[39;49m\u001b[43msm\u001b[49m\u001b[43m,\u001b[49m\n\u001b[1;32m     17\u001b[0m \u001b[43m                   \u001b[49m\u001b[43mq_data\u001b[49m\u001b[38;5;241;43m=\u001b[39;49m\u001b[43mqd\u001b[49m\u001b[43m,\u001b[49m\u001b[43m \u001b[49m\u001b[43mq_model\u001b[49m\u001b[38;5;241;43m=\u001b[39;49m\u001b[43mqm\u001b[49m\u001b[43m,\u001b[49m\u001b[43m \u001b[49m\u001b[43mepochs\u001b[49m\u001b[38;5;241;43m=\u001b[39;49m\u001b[38;5;241;43m2\u001b[39;49m\u001b[43m,\u001b[49m\u001b[43m \u001b[49m\u001b[43maccumulated_gradients\u001b[49m\u001b[38;5;241;43m=\u001b[39;49m\u001b[38;5;28;43;01mTrue\u001b[39;49;00m\u001b[43m)\u001b[49m\n",
      "\u001b[0;31mTypeError\u001b[0m: fit() got an unexpected keyword argument 's_data'"
     ]
    }
   ],
   "source": [
    "n, p, d, c = 500, 100, 5, 2\n",
    "\n",
    "Z = torch.randn(p, d)\n",
    "X_train, X_test = torch.randn(n//2, d), torch.randn(n//2, d)\n",
    "W_star = torch.randn(d, c)\n",
    "Y_train, Y_test = X_train @ W_star, X_test @ W_star\n",
    "\n",
    "dtype = torch.float32\n",
    "kernel_fn = lambda x, z: kernels.laplacian(x, z, bandwidth=20.)\n",
    "device = dev.Device.create(use_gpu_if_available=True)\n",
    "model = skm.create_sharded_kernel_machine(\n",
    "    Z, c, kernel_fn, device, dtype=dtype, tmp_centers_coeff=2)\n",
    "\n",
    "sd, sm, qd, qm = 10, 10, 3, 3 # configuration for EigenPro preconditioners\n",
    "model = solver.fit(model, X_train, Y_train, X_test, Y_test, device,\n",
    "                   dtype=dtype, kernel=kernel_fn, n_data_pcd_nyst_samples=sd, n_model_pcd_nyst_samples=sm,\n",
    "                   n_data_pcd_eigenvals=qd, n_model_pcd_eigenvals=qm, epochs=2, accumulated_gradients=True)"
   ]
  }
 ],
 "metadata": {
  "kernelspec": {
   "display_name": "Python 3 (ipykernel)",
   "language": "python",
   "name": "python3"
  },
  "language_info": {
   "codemirror_mode": {
    "name": "ipython",
    "version": 3
   },
   "file_extension": ".py",
   "mimetype": "text/x-python",
   "name": "python",
   "nbconvert_exporter": "python",
   "pygments_lexer": "ipython3",
   "version": "3.11.9"
  }
 },
 "nbformat": 4,
 "nbformat_minor": 5
}
